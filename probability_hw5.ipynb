{
 "cells": [
  {
   "cell_type": "code",
   "execution_count": 1,
   "metadata": {},
   "outputs": [],
   "source": [
    "from scipy import stats\n",
    "import numpy as np"
   ]
  },
  {
   "cell_type": "markdown",
   "metadata": {},
   "source": [
    "__Задача 1__\n",
    "\n",
    "Утверждается, что шарики для подшипников, изготовленные автоматическим станком, имеют средний диаметр 17 мм. Используя уровень значимости 0.025 и правостороннюю критическую область, проверить данную гипотезу при условии, что в выборке из 100 шариков средний диаметр оказался равным 17.5 мм, а дисперсия известна и равна 4 мм."
   ]
  },
  {
   "cell_type": "markdown",
   "metadata": {},
   "source": [
    "__Решение__\n",
    "\n",
    "(Изначально предположим что здесь нормальное распределение)\n",
    "\n",
    "Используем следующую статистику:\n",
    "\n",
    "$$T(X) = \\dfrac{\\overline{X} - a}{\\sigma / \\sqrt{n}}$$\n",
    "\n",
    "Подставляем значения:\n",
    "\n",
    "$$T(X) = \\dfrac{\\overline{X} - 17}{2 / 10}$$\n",
    "\n",
    "Пока не используем данные из выборки кроме ее кол-ва\n",
    "\n",
    "Критическая область: $\\Omega_\\alpha = (t_{1 - \\alpha}, \\infty)$\n"
   ]
  },
  {
   "cell_type": "code",
   "execution_count": 11,
   "metadata": {},
   "outputs": [
    {
     "data": {
      "text/plain": [
       "1.959963984540054"
      ]
     },
     "execution_count": 11,
     "metadata": {},
     "output_type": "execute_result"
    }
   ],
   "source": [
    "t = stats.norm.ppf(1-0.025)\n",
    "t"
   ]
  },
  {
   "cell_type": "markdown",
   "metadata": {},
   "source": [
    "Получаем: $\\Omega_\\alpha = ({1.959}, \\infty)$\n",
    "\n",
    "Теперь остаётся лишь взять среднее по выборке из усовия задачи, посчитать для неё значение функции $T$ и проверить, содержится ли оно в критической области."
   ]
  },
  {
   "cell_type": "code",
   "execution_count": 13,
   "metadata": {},
   "outputs": [
    {
     "data": {
      "text/plain": [
       "2.5"
      ]
     },
     "execution_count": 13,
     "metadata": {},
     "output_type": "execute_result"
    }
   ],
   "source": [
    "mean = 17.5\n",
    "\n",
    "T = (mean - 17)/(2/10)\n",
    "T"
   ]
  },
  {
   "cell_type": "markdown",
   "metadata": {},
   "source": [
    "Итак, значение __НЕ__ попало в критическую область, соответственно мы принимаем нулевую гепотезу о том, что средний диаметр равняется 17мм"
   ]
  },
  {
   "cell_type": "markdown",
   "metadata": {},
   "source": [
    "\n",
    "__Задача 2__\n",
    "\n",
    "Известно, что генеральная совокупность распределена нормально с известным средним квадратическим отклонением 16. Найти доверительный интервал для оценки математического ожидания __a__ с надёжностью 0.95, если выборочное среднее равно 80, а объём равен 256."
   ]
  },
  {
   "cell_type": "markdown",
   "metadata": {},
   "source": [
    "__Решение__\n",
    "\n",
    "Воспользуемся выше приведенной статистикой:\n",
    "\n",
    "$$T(X) = \\dfrac{\\overline{X} - a}{\\sigma / \\sqrt{n}}$$\n",
    "\n",
    "Надежность:\n",
    "$$p = 0.95$$\n",
    "\n",
    "Соответсвенно имеем:\n",
    "\n",
    "$$\n",
    "P \\left(\n",
    "    \\overline{X} - t_{1 - 0.95/2} \\cdot \\dfrac{\\sigma}{\\sqrt{n}}\n",
    "    \\leq a \\leq \n",
    "    \\overline{X} + t_{1 - 0.95/2} \\cdot \\dfrac{\\sigma}{\\sqrt{n}}\n",
    "\\right) = p.\n",
    "$$\n",
    "\n",
    "$$\n",
    "P \\left(\n",
    "    \\overline{X} - t_{1 - 0.95/2} \\cdot \\dfrac{16}{\\sqrt{256}}\n",
    "    \\leq a \\leq \n",
    "    \\overline{X} + t_{1 - 0.95/2} \\cdot \\dfrac{16}{\\sqrt{256}}\n",
    "\\right) = p.\n",
    "$$"
   ]
  },
  {
   "cell_type": "code",
   "execution_count": 3,
   "metadata": {},
   "outputs": [
    {
     "data": {
      "text/plain": [
       "1.9692738896550188"
      ]
     },
     "execution_count": 3,
     "metadata": {},
     "output_type": "execute_result"
    }
   ],
   "source": [
    "alpha = 0.05\n",
    "t = stats.t.ppf(1 - alpha / 2, df=256)\n",
    "t"
   ]
  },
  {
   "cell_type": "code",
   "execution_count": 4,
   "metadata": {},
   "outputs": [],
   "source": [
    "mean = 80\n",
    "std = 16\n",
    "n = 256"
   ]
  },
  {
   "cell_type": "markdown",
   "metadata": {},
   "source": [
    "Получаем доверительный интервал:"
   ]
  },
  {
   "cell_type": "code",
   "execution_count": 5,
   "metadata": {},
   "outputs": [
    {
     "data": {
      "text/plain": [
       "(78.03072611034499, 81.96927388965501)"
      ]
     },
     "execution_count": 5,
     "metadata": {},
     "output_type": "execute_result"
    }
   ],
   "source": [
    "(mean - t * std / np.sqrt(n), mean + t * std / np.sqrt(n))"
   ]
  },
  {
   "cell_type": "markdown",
   "metadata": {},
   "source": [
    "\n",
    "__Задача 3__\n",
    "\n",
    "Продавец утверждает, что средний вес пачки печенья составляет 200 г. Из партии извлечена выборка из 10 пачек. Вес каждой пачки составляет:\n",
    "```\n",
    "202, 203, 199, 197, 195, 201, 200, 204, 194, 190\n",
    "```\n",
    "Известно, что их веса распределены нормально. Верно ли утверждение продавца, если учитывать, что уровень значимости равен 1%?"
   ]
  },
  {
   "cell_type": "markdown",
   "metadata": {},
   "source": [
    "__Решение__"
   ]
  },
  {
   "cell_type": "code",
   "execution_count": 6,
   "metadata": {},
   "outputs": [],
   "source": [
    "samples = np.array([202, 203, 199, 197, 195, 201, 200, 204, 194, 190])"
   ]
  },
  {
   "cell_type": "code",
   "execution_count": 7,
   "metadata": {},
   "outputs": [
    {
     "data": {
      "text/plain": [
       "198.5"
      ]
     },
     "execution_count": 7,
     "metadata": {},
     "output_type": "execute_result"
    }
   ],
   "source": [
    "mean = samples.mean()\n",
    "mean"
   ]
  },
  {
   "cell_type": "markdown",
   "metadata": {},
   "source": [
    "Имеем:\n",
    "\n",
    "уровень значимости __a__ = 0.1\n",
    "\n",
    "$\\overline{X}$ = 198.5\n",
    "\n",
    "и __n__ = 10\n",
    "\n",
    "__неизвестна лишь сигма!__"
   ]
  },
  {
   "cell_type": "markdown",
   "metadata": {},
   "source": [
    "Так как мы не знаем дисперсию и распределение нормальное, воспользуемся __статистикой Стьюдента__:\n",
    "\n",
    "$$T(X) = \\dfrac{\\overline{X} - a}{\\sigma_X / \\sqrt{n}}$$\n",
    "\n",
    "Получаем критическую область:\n",
    "\n",
    "$$\\Omega_\\alpha = \\left( -\\infty, - t_{1 - \\alpha/2, \\: n - 1} \\right) \\cup \\left( t_{1 - \\alpha/2, \\: n - 1}, \\infty \\right).$$"
   ]
  },
  {
   "cell_type": "code",
   "execution_count": 8,
   "metadata": {},
   "outputs": [
    {
     "data": {
      "text/plain": [
       "4.453463071962462"
      ]
     },
     "execution_count": 8,
     "metadata": {},
     "output_type": "execute_result"
    }
   ],
   "source": [
    "std = samples.std(ddof=1)\n",
    "std"
   ]
  },
  {
   "cell_type": "code",
   "execution_count": 9,
   "metadata": {},
   "outputs": [
    {
     "data": {
      "text/plain": [
       "1.8331129326536335"
      ]
     },
     "execution_count": 9,
     "metadata": {},
     "output_type": "execute_result"
    }
   ],
   "source": [
    "t = stats.t.ppf(1 - 0.1 / 2, df=10-1)\n",
    "t"
   ]
  },
  {
   "cell_type": "markdown",
   "metadata": {},
   "source": [
    "$$\\Omega_\\alpha = \\left( -\\infty, - 1.833 \\right) \\cup \\left( 1.833, \\infty \\right)$$"
   ]
  },
  {
   "cell_type": "code",
   "execution_count": 10,
   "metadata": {},
   "outputs": [
    {
     "data": {
      "text/plain": [
       "-1.0651074037450896"
      ]
     },
     "execution_count": 10,
     "metadata": {},
     "output_type": "execute_result"
    }
   ],
   "source": [
    "T = (mean - 200) / (std / np.sqrt(10))\n",
    "T"
   ]
  },
  {
   "cell_type": "markdown",
   "metadata": {},
   "source": [
    "Итак, значение __НЕ__ попало в критическую область, соответственно мы принимаем нулевую гепотезу о том, что средний вес пачки печенья 200 г."
   ]
  }
 ],
 "metadata": {
  "kernelspec": {
   "display_name": "Python 3",
   "language": "python",
   "name": "python3"
  },
  "language_info": {
   "codemirror_mode": {
    "name": "ipython",
    "version": 3
   },
   "file_extension": ".py",
   "mimetype": "text/x-python",
   "name": "python",
   "nbconvert_exporter": "python",
   "pygments_lexer": "ipython3",
   "version": "3.7.3"
  }
 },
 "nbformat": 4,
 "nbformat_minor": 2
}
