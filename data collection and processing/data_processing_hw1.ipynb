{
 "cells": [
  {
   "cell_type": "markdown",
   "metadata": {},
   "source": [
    "__1. Посмотреть документацию к API GitHub, разобраться как вывести список репозиториев для конкретного пользователя, сохранить JSON-вывод в файле *.json.__"
   ]
  },
  {
   "cell_type": "code",
   "execution_count": 1,
   "metadata": {},
   "outputs": [
    {
     "name": "stdout",
     "output_type": "stream",
     "text": [
      "OK\n"
     ]
    }
   ],
   "source": [
    "import requests\n",
    "\n",
    "main_link = 'https://api.github.com/users/Kolch/repos'\n",
    "visibility = 'public'\n",
    "affiliation = 'owner'\n",
    "\n",
    "req = requests.get(f'{main_link}?visibility={visibility}&affiliation={affiliation}&sort=created')\n",
    "if req.ok:\n",
    "    print(\"OK\")\n",
    "    with open('myRepos.json','wb') as file:\n",
    "        file.write(req.content)"
   ]
  },
  {
   "cell_type": "markdown",
   "metadata": {},
   "source": [
    "__2. Изучить список открытых API. Найти среди них любое, требующее авторизацию (любого типа). Выполнить запросы к нему, пройдя авторизацию через curl, Postman, Python.Ответ сервера записать в файл (приложить скриншот для Postman и curl).__\n",
    "\n",
    "\n",
    "Для этого задания я взял API(http://apiv3.iucnredlist.org/api/v3/docs) - этот ресурс предоставляет информацию о видах находящихся под угрозой исчезновения. Тип авторизации - __apiKey__\n",
    "\n",
    "Ради примера воспользуемся методом, который позволяет получить список всех видов, информация о которых хранится на ресурсе... Так как видов очень много, мы запросим данные лишь с одной страницы(10000 видов)"
   ]
  },
  {
   "cell_type": "code",
   "execution_count": 2,
   "metadata": {},
   "outputs": [
    {
     "name": "stdout",
     "output_type": "stream",
     "text": [
      "OK\n"
     ]
    }
   ],
   "source": [
    "main_link = 'http://apiv3.iucnredlist.org/api/v3/'\n",
    "token = '9bb4facb6d23f48efbf424bb05c0c1ef1cf6f468393bc745d42179ac4aca5fee'\n",
    "method = 'species/page/0'\n",
    "req = requests.get(f'{main_link}{method}?token={token}')\n",
    "if req.ok:\n",
    "    print(\"OK\")\n",
    "    with open('species.json','wb') as file:\n",
    "        file.write(req.content)"
   ]
  },
  {
   "cell_type": "markdown",
   "metadata": {},
   "source": [
    "__Ниже скриншоты из Postman и curl__"
   ]
  },
  {
   "cell_type": "markdown",
   "metadata": {},
   "source": [
    "![title](screen1.jpg)"
   ]
  },
  {
   "cell_type": "markdown",
   "metadata": {},
   "source": [
    "![title](screen2.png)"
   ]
  }
 ],
 "metadata": {
  "kernelspec": {
   "display_name": "Python 3",
   "language": "python",
   "name": "python3"
  },
  "language_info": {
   "codemirror_mode": {
    "name": "ipython",
    "version": 3
   },
   "file_extension": ".py",
   "mimetype": "text/x-python",
   "name": "python",
   "nbconvert_exporter": "python",
   "pygments_lexer": "ipython3",
   "version": "3.7.3"
  }
 },
 "nbformat": 4,
 "nbformat_minor": 2
}
