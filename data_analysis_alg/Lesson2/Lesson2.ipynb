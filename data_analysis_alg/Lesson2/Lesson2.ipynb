{
 "cells": [
  {
   "cell_type": "markdown",
   "metadata": {},
   "source": [
    "# Урок 2.  \n",
    "# Масштабирование признаков.  \n",
    "# L1- и L2-регуляризация.  \n",
    "# Стохастический градиентный спуск"
   ]
  },
  {
   "cell_type": "code",
   "execution_count": 1,
   "metadata": {
    "colab": {},
    "colab_type": "code",
    "id": "_u5bV-OlT34p"
   },
   "outputs": [],
   "source": [
    "import numpy as np\n",
    "import matplotlib.pyplot as plt"
   ]
  },
  {
   "cell_type": "code",
   "execution_count": 2,
   "metadata": {
    "colab": {},
    "colab_type": "code",
    "id": "_n6il-AZaLuA"
   },
   "outputs": [],
   "source": [
    "X = np.array([[1, 1, 1, 1, 1, 1, 1, 1, 1, 1],\n",
    "              [1, 1, 2, 1, 3, 0, 5, 10, 1, 2],\n",
    "              [500, 700, 750, 600, 1450,\n",
    "               800, 1500, 2000, 450, 1000],\n",
    "              [1, 1, 2, 1, 2, \n",
    "               1, 3, 3, 1, 2]])"
   ]
  },
  {
   "cell_type": "code",
   "execution_count": 3,
   "metadata": {
    "colab": {},
    "colab_type": "code",
    "id": "x8yoci01ni-t"
   },
   "outputs": [],
   "source": [
    "y = [45, 55, 50, 59, 65,\n",
    "    35, 75, 80, 50, 60]"
   ]
  },
  {
   "cell_type": "markdown",
   "metadata": {},
   "source": [
    "# Виды масштабирования признаков"
   ]
  },
  {
   "cell_type": "markdown",
   "metadata": {},
   "source": [
    "![img/normalization.png](img/normalization.png)"
   ]
  },
  {
   "cell_type": "markdown",
   "metadata": {},
   "source": [
    "### MinMaxScaler  \n",
    "\n",
    "$$\\large X_{norm} = \\frac{X – X_{min}}{X_{max}-X_{min}}$$"
   ]
  },
  {
   "cell_type": "code",
   "execution_count": 4,
   "metadata": {
    "colab": {
     "base_uri": "https://localhost:8080/",
     "height": 34
    },
    "colab_type": "code",
    "id": "Ei5qeZO_aT6m",
    "outputId": "087819d3-202a-46c9-f87d-49e17953099c"
   },
   "outputs": [
    {
     "data": {
      "text/plain": [
       "(0, 10)"
      ]
     },
     "execution_count": 4,
     "metadata": {},
     "output_type": "execute_result"
    }
   ],
   "source": [
    "X[1].min(), X[1].max()"
   ]
  },
  {
   "cell_type": "code",
   "execution_count": 5,
   "metadata": {
    "colab": {
     "base_uri": "https://localhost:8080/",
     "height": 34
    },
    "colab_type": "code",
    "id": "L7wsW1Q7b4Ts",
    "outputId": "911044d6-32c1-475a-80cd-cbaf26d5ba32"
   },
   "outputs": [
    {
     "data": {
      "text/plain": [
       "(450, 2000)"
      ]
     },
     "execution_count": 5,
     "metadata": {},
     "output_type": "execute_result"
    }
   ],
   "source": [
    "X[2].min(), X[2].max()"
   ]
  },
  {
   "cell_type": "code",
   "execution_count": 6,
   "metadata": {
    "colab": {
     "base_uri": "https://localhost:8080/",
     "height": 121
    },
    "colab_type": "code",
    "id": "E55S9Bzob9Xa",
    "outputId": "4abf56a2-d484-4c24-8520-8ed1b58ccca8"
   },
   "outputs": [
    {
     "data": {
      "text/plain": [
       "array([[1.00e+00, 1.00e+00, 1.00e+00, 1.00e+00, 1.00e+00, 1.00e+00,\n",
       "        1.00e+00, 1.00e+00, 1.00e+00, 1.00e+00],\n",
       "       [1.00e+00, 1.00e+00, 2.00e+00, 1.00e+00, 3.00e+00, 0.00e+00,\n",
       "        5.00e+00, 1.00e+01, 1.00e+00, 2.00e+00],\n",
       "       [5.00e+02, 7.00e+02, 7.50e+02, 6.00e+02, 1.45e+03, 8.00e+02,\n",
       "        1.50e+03, 2.00e+03, 4.50e+02, 1.00e+03],\n",
       "       [1.00e+00, 1.00e+00, 2.00e+00, 1.00e+00, 2.00e+00, 1.00e+00,\n",
       "        3.00e+00, 3.00e+00, 1.00e+00, 2.00e+00]])"
      ]
     },
     "execution_count": 6,
     "metadata": {},
     "output_type": "execute_result"
    }
   ],
   "source": [
    "X_norm = X.copy()\n",
    "X_norm = X_norm.astype(np.float64)\n",
    "X_norm"
   ]
  },
  {
   "cell_type": "code",
   "execution_count": 7,
   "metadata": {
    "colab": {
     "base_uri": "https://localhost:8080/",
     "height": 121
    },
    "colab_type": "code",
    "id": "7x-6IuPOcIo0",
    "outputId": "1668fec7-37ae-4671-ad9f-f093c30a6c72"
   },
   "outputs": [
    {
     "data": {
      "text/plain": [
       "array([[1.00e+00, 1.00e+00, 1.00e+00, 1.00e+00, 1.00e+00, 1.00e+00,\n",
       "        1.00e+00, 1.00e+00, 1.00e+00, 1.00e+00],\n",
       "       [1.00e-01, 1.00e-01, 2.00e-01, 1.00e-01, 3.00e-01, 0.00e+00,\n",
       "        5.00e-01, 1.00e+00, 1.00e-01, 2.00e-01],\n",
       "       [5.00e+02, 7.00e+02, 7.50e+02, 6.00e+02, 1.45e+03, 8.00e+02,\n",
       "        1.50e+03, 2.00e+03, 4.50e+02, 1.00e+03],\n",
       "       [1.00e+00, 1.00e+00, 2.00e+00, 1.00e+00, 2.00e+00, 1.00e+00,\n",
       "        3.00e+00, 3.00e+00, 1.00e+00, 2.00e+00]])"
      ]
     },
     "execution_count": 7,
     "metadata": {},
     "output_type": "execute_result"
    }
   ],
   "source": [
    "X_norm[1] = (X[1] - X[1].min()) / (X[1].max() - X[1].min())\n",
    "X_norm"
   ]
  },
  {
   "cell_type": "code",
   "execution_count": 8,
   "metadata": {
    "colab": {
     "base_uri": "https://localhost:8080/",
     "height": 121
    },
    "colab_type": "code",
    "id": "izkMRdXFcjyK",
    "outputId": "982b8c8d-629d-4c4a-a3d5-67854cee4a4a"
   },
   "outputs": [
    {
     "data": {
      "text/plain": [
       "array([[1.        , 1.        , 1.        , 1.        , 1.        ,\n",
       "        1.        , 1.        , 1.        , 1.        , 1.        ],\n",
       "       [0.1       , 0.1       , 0.2       , 0.1       , 0.3       ,\n",
       "        0.        , 0.5       , 1.        , 0.1       , 0.2       ],\n",
       "       [0.03225806, 0.16129032, 0.19354839, 0.09677419, 0.64516129,\n",
       "        0.22580645, 0.67741935, 1.        , 0.        , 0.35483871],\n",
       "       [1.        , 1.        , 2.        , 1.        , 2.        ,\n",
       "        1.        , 3.        , 3.        , 1.        , 2.        ]])"
      ]
     },
     "execution_count": 8,
     "metadata": {},
     "output_type": "execute_result"
    }
   ],
   "source": [
    "X_norm[2] = (X[2] - X[2].min()) / (X[2].max() - X[2].min())\n",
    "X_norm"
   ]
  },
  {
   "cell_type": "markdown",
   "metadata": {
    "colab": {},
    "colab_type": "code",
    "id": "Zy63bpFfeqzu"
   },
   "source": [
    "### Стандартизация  \n",
    "\n",
    "$$\\large X_{norm} = \\frac{X – X_{mean}}{std}$$"
   ]
  },
  {
   "cell_type": "code",
   "execution_count": 9,
   "metadata": {
    "colab": {
     "base_uri": "https://localhost:8080/",
     "height": 317
    },
    "colab_type": "code",
    "id": "8i9pB-3-fMD4",
    "outputId": "3cbe76f6-d000-4fcd-fe86-ffe853403356"
   },
   "outputs": [
    {
     "data": {
      "image/png": "[encoded data removed]",
      "text/plain": [
       "<Figure size 432x288 with 1 Axes>"
      ]
     },
     "metadata": {
      "needs_background": "light"
     },
     "output_type": "display_data"
    }
   ],
   "source": [
    "plt.hist(X[1]);"
   ]
  },
  {
   "cell_type": "code",
   "execution_count": 10,
   "metadata": {
    "colab": {
     "base_uri": "https://localhost:8080/",
     "height": 335
    },
    "colab_type": "code",
    "id": "-bnAYQqVfRX-",
    "outputId": "d59b0013-49bc-40fa-cb29-e71403e6e9e0"
   },
   "outputs": [
    {
     "data": {
      "image/png": "[encoded data removed]",
      "text/plain": [
       "<Figure size 432x288 with 1 Axes>"
      ]
     },
     "metadata": {
      "needs_background": "light"
     },
     "output_type": "display_data"
    }
   ],
   "source": [
    "plt.hist(X[2]);"
   ]
  },
  {
   "cell_type": "code",
   "execution_count": 11,
   "metadata": {
    "colab": {
     "base_uri": "https://localhost:8080/",
     "height": 34
    },
    "colab_type": "code",
    "id": "eBMYUxGBfeGs",
    "outputId": "3d6031a8-3489-4661-a4a9-62d0c94c7116"
   },
   "outputs": [
    {
     "data": {
      "text/plain": [
       "2.6"
      ]
     },
     "execution_count": 11,
     "metadata": {},
     "output_type": "execute_result"
    }
   ],
   "source": [
    "X1_mean = X[1].mean()\n",
    "X1_mean"
   ]
  },
  {
   "cell_type": "code",
   "execution_count": 12,
   "metadata": {
    "colab": {
     "base_uri": "https://localhost:8080/",
     "height": 34
    },
    "colab_type": "code",
    "id": "KsBCCu-Cf45z",
    "outputId": "e5c534cf-2e3c-4574-f281-3ae73c956783"
   },
   "outputs": [
    {
     "data": {
      "text/plain": [
       "2.8000000000000003"
      ]
     },
     "execution_count": 12,
     "metadata": {},
     "output_type": "execute_result"
    }
   ],
   "source": [
    "X1_std = X[1].std()\n",
    "X1_std"
   ]
  },
  {
   "cell_type": "code",
   "execution_count": 13,
   "metadata": {
    "colab": {},
    "colab_type": "code",
    "id": "M57-Pzl_f_rF"
   },
   "outputs": [],
   "source": [
    "X_st = X.copy().astype(np.float64)"
   ]
  },
  {
   "cell_type": "code",
   "execution_count": 14,
   "metadata": {
    "colab": {
     "base_uri": "https://localhost:8080/",
     "height": 294
    },
    "colab_type": "code",
    "id": "btJMY0YbgKLb",
    "outputId": "40010205-def9-4582-9a5d-e513e85b7a4e"
   },
   "outputs": [
    {
     "data": {
      "text/plain": [
       "array([[ 1.00000000e+00,  1.00000000e+00,  1.00000000e+00,\n",
       "         1.00000000e+00,  1.00000000e+00,  1.00000000e+00,\n",
       "         1.00000000e+00,  1.00000000e+00,  1.00000000e+00,\n",
       "         1.00000000e+00],\n",
       "       [-5.71428571e-01, -5.71428571e-01, -2.14285714e-01,\n",
       "        -5.71428571e-01,  1.42857143e-01, -9.28571429e-01,\n",
       "         8.57142857e-01,  2.64285714e+00, -5.71428571e-01,\n",
       "        -2.14285714e-01],\n",
       "       [ 5.00000000e+02,  7.00000000e+02,  7.50000000e+02,\n",
       "         6.00000000e+02,  1.45000000e+03,  8.00000000e+02,\n",
       "         1.50000000e+03,  2.00000000e+03,  4.50000000e+02,\n",
       "         1.00000000e+03],\n",
       "       [ 1.00000000e+00,  1.00000000e+00,  2.00000000e+00,\n",
       "         1.00000000e+00,  2.00000000e+00,  1.00000000e+00,\n",
       "         3.00000000e+00,  3.00000000e+00,  1.00000000e+00,\n",
       "         2.00000000e+00]])"
      ]
     },
     "execution_count": 14,
     "metadata": {},
     "output_type": "execute_result"
    }
   ],
   "source": [
    "X_st[1] = (X[1] - X1_mean) / X1_std\n",
    "X_st"
   ]
  },
  {
   "cell_type": "code",
   "execution_count": 15,
   "metadata": {
    "colab": {
     "base_uri": "https://localhost:8080/",
     "height": 352
    },
    "colab_type": "code",
    "id": "-Y1tzWGCgYjA",
    "outputId": "89dc21fe-180f-4e68-f30f-1cf276c4f154"
   },
   "outputs": [
    {
     "data": {
      "image/png": "[encoded data removed]",
      "text/plain": [
       "<Figure size 432x288 with 1 Axes>"
      ]
     },
     "metadata": {
      "needs_background": "light"
     },
     "output_type": "display_data"
    }
   ],
   "source": [
    "plt.hist(X_st[1]);"
   ]
  },
  {
   "cell_type": "code",
   "execution_count": 16,
   "metadata": {
    "colab": {},
    "colab_type": "code",
    "id": "ZlJUBOyzgkJV"
   },
   "outputs": [],
   "source": [
    "def custom_StandardScaler(x):\n",
    "    res = (x - x.mean()) / x.std()\n",
    "    return res"
   ]
  },
  {
   "cell_type": "code",
   "execution_count": 17,
   "metadata": {
    "colab": {},
    "colab_type": "code",
    "id": "6PlDlFY0hGZA"
   },
   "outputs": [],
   "source": [
    "X_st[2] = custom_StandardScaler(X[2])"
   ]
  },
  {
   "cell_type": "code",
   "execution_count": 18,
   "metadata": {
    "colab": {
     "base_uri": "https://localhost:8080/",
     "height": 155
    },
    "colab_type": "code",
    "id": "LOKhmhJjt9TR",
    "outputId": "2b131d78-9066-462b-dfa9-778758f3d363"
   },
   "outputs": [
    {
     "data": {
      "text/plain": [
       "array([[ 1.        ,  1.        ,  1.        ,  1.        ,  1.        ,\n",
       "         1.        ,  1.        ,  1.        ,  1.        ,  1.        ],\n",
       "       [-0.57142857, -0.57142857, -0.21428571, -0.57142857,  0.14285714,\n",
       "        -0.92857143,  0.85714286,  2.64285714, -0.57142857, -0.21428571],\n",
       "       [-0.97958969, -0.56713087, -0.46401617, -0.77336028,  0.97958969,\n",
       "        -0.36090146,  1.08270439,  2.11385144, -1.08270439,  0.05155735],\n",
       "       [-0.89625816, -0.89625816,  0.38411064, -0.89625816,  0.38411064,\n",
       "        -0.89625816,  1.66447944,  1.66447944, -0.89625816,  0.38411064]])"
      ]
     },
     "execution_count": 18,
     "metadata": {},
     "output_type": "execute_result"
    }
   ],
   "source": [
    "X_st[3] = custom_StandardScaler(X[3])\n",
    "X_st"
   ]
  },
  {
   "cell_type": "code",
   "execution_count": 19,
   "metadata": {
    "colab": {
     "base_uri": "https://localhost:8080/",
     "height": 121
    },
    "colab_type": "code",
    "id": "UwiZ4UcOhQXX",
    "outputId": "a4b1c355-12d6-49cf-f097-24af99872ab9"
   },
   "outputs": [
    {
     "data": {
      "image/png": "[encoded data removed]",
      "text/plain": [
       "<Figure size 432x288 with 1 Axes>"
      ]
     },
     "metadata": {
      "needs_background": "light"
     },
     "output_type": "display_data"
    }
   ],
   "source": [
    "plt.hist(X_st[1]);"
   ]
  },
  {
   "cell_type": "code",
   "execution_count": null,
   "metadata": {},
   "outputs": [],
   "source": []
  },
  {
   "cell_type": "markdown",
   "metadata": {
    "colab": {},
    "colab_type": "code",
    "id": "UdGy9tjVhZol"
   },
   "source": [
    "# SGD"
   ]
  },
  {
   "cell_type": "markdown",
   "metadata": {},
   "source": [
    "![img/lr_gradient_descent.gif](img/lr_gradient_descent.gif)"
   ]
  },
  {
   "cell_type": "markdown",
   "metadata": {},
   "source": [
    "Как нейронные сети обучаются с помощью градиентного спуска:  \n",
    "https://www.youtube.com/watch?v=IHZwWFHWa-w"
   ]
  },
  {
   "cell_type": "code",
   "execution_count": 20,
   "metadata": {
    "colab": {},
    "colab_type": "code",
    "id": "VDpN7UxYnrcS"
   },
   "outputs": [],
   "source": [
    "def calc_mse(y, y_pred):\n",
    "    err = np.mean((y - y_pred)**2)\n",
    "    return err"
   ]
  },
  {
   "cell_type": "code",
   "execution_count": 21,
   "metadata": {
    "colab": {},
    "colab_type": "code",
    "id": "SgEyis2zlJeb"
   },
   "outputs": [],
   "source": [
    "def eval_model(X, y, iterations, alpha=1e-4):\n",
    "    W = np.random.randn(X.shape[0])\n",
    "    n = X.shape[1]\n",
    "    for i in range(1, iterations+1):\n",
    "        y_pred = np.dot(W, X)\n",
    "        err = calc_mse(y, y_pred)\n",
    "        W -= (alpha * (1/n * 2 * np.dot((y_pred - y), X.T)))\n",
    "        if i % (iterations / 10) == 0:\n",
    "            print(f'# итерация: {i}, MSE: {err}, веса: {W}')\n",
    "    return W"
   ]
  },
  {
   "cell_type": "code",
   "execution_count": 22,
   "metadata": {
    "colab": {
     "base_uri": "https://localhost:8080/",
     "height": 207
    },
    "colab_type": "code",
    "id": "4nsYMAGjmFlB",
    "outputId": "8959a8af-3d27-42a6-afae-5db46c794fe1"
   },
   "outputs": [
    {
     "name": "stdout",
     "output_type": "stream",
     "text": [
      "# итерация: 100, MSE: 100.02483950148556, веса: [49.82547494  4.60121068  3.1631798   3.84388877]\n",
      "# итерация: 200, MSE: 41.17496461083099, веса: [56.39546985  4.89435344  2.89255025  3.86194973]\n",
      "# итерация: 300, MSE: 40.03406584214221, веса: [57.26677966  5.12099178  2.65490626  3.87593008]\n",
      "# итерация: 400, MSE: 39.941764074876126, веса: [57.38233238  5.30429045  2.45549131  3.89446689]\n",
      "# итерация: 500, MSE: 39.89067393779927, веса: [57.39765693  5.45289119  2.28826373  3.91514511]\n",
      "# итерация: 600, MSE: 39.85579470578695, веса: [57.39968926  5.57361679  2.14808741  3.93633183]\n",
      "# итерация: 700, MSE: 39.83177724049849, веса: [57.39995879  5.67189376  2.03063081  3.95697842]\n",
      "# итерация: 800, MSE: 39.81520003806121, веса: [57.39999453  5.75204947  1.93224485  3.97644674]\n",
      "# итерация: 900, MSE: 39.80373716487608, веса: [57.39999928  5.81754368  1.84985819  3.99438289]\n",
      "# итерация: 1000, MSE: 39.79579871078698, веса: [57.3999999   5.87114953  1.78088787  4.01062634]\n"
     ]
    },
    {
     "data": {
      "text/plain": [
       "array([57.3999999 ,  5.87114953,  1.78088787,  4.01062634])"
      ]
     },
     "execution_count": 22,
     "metadata": {},
     "output_type": "execute_result"
    }
   ],
   "source": [
    "eval_model(X_st, y, iterations=1000, alpha=1e-2)"
   ]
  },
  {
   "cell_type": "code",
   "execution_count": 23,
   "metadata": {
    "colab": {},
    "colab_type": "code",
    "id": "nCcMmNdQmxDp"
   },
   "outputs": [],
   "source": [
    "def eval_sgd_model(X, y, iterations, qty_in_batch, alpha=1e-4):\n",
    "    W = np.random.randn(X.shape[0])\n",
    "    n = X.shape[1]\n",
    "    n_batch = n // qty_in_batch\n",
    "    if n % qty_in_batch != 0:\n",
    "        n_batch += 1\n",
    "    for i in range(1, iterations+1):\n",
    "        for b in range(n_batch):\n",
    "            start_ = qty_in_batch*b\n",
    "            end_ = qty_in_batch*(b+1)\n",
    "            X_tmp = X[:, start_ : end_]\n",
    "            y_tmp = y[start_ : end_]\n",
    "            y_pred_tmp = np.dot(W, X_tmp)\n",
    "            err = calc_mse(y_tmp, y_pred_tmp)\n",
    "            W -= (alpha * (1/n * 2 * np.dot((y_pred_tmp - y_tmp), X_tmp.T)))\n",
    "        if i % (iterations / 10) == 0:\n",
    "            print(f'# итерация: {i}, MSE: {err}, веса: {W}')\n",
    "    return W"
   ]
  },
  {
   "cell_type": "code",
   "execution_count": 24,
   "metadata": {},
   "outputs": [
    {
     "name": "stdout",
     "output_type": "stream",
     "text": [
      "# итерация: 500, MSE: 37.88443044152193, веса: [57.39602054  5.47895005  1.71849683  4.49354818]\n",
      "# итерация: 1000, MSE: 38.33925266461676, веса: [57.39799372  5.94558925  1.5523296   4.19180924]\n",
      "# итерация: 1500, MSE: 38.36299487596258, веса: [57.39785778  6.08062844  1.47672203  4.13244695]\n",
      "# итерация: 2000, MSE: 38.32797836717914, веса: [57.39781361  6.12221573  1.44405402  4.12369511]\n",
      "# итерация: 2500, MSE: 38.30249648041418, веса: [57.39779836  6.13587861  1.43031544  4.12387262]\n",
      "# итерация: 3000, MSE: 38.289386053523614, веса: [57.39779282  6.14064139  1.4246236   4.12485122]\n",
      "# итерация: 3500, MSE: 38.28339028364594, веса: [57.39779074  6.14238396  1.42228566  4.1254687 ]\n",
      "# итерация: 4000, MSE: 38.2807928823674, веса: [57.39778993  6.1430448   1.42133014  4.12577283]\n",
      "# итерация: 4500, MSE: 38.27969895716537, веса: [57.39778961  6.1433017   1.42094078  4.12590926]\n",
      "# итерация: 5000, MSE: 38.279245371926145, веса: [57.39778948  6.1434032   1.42078239  4.12596778]\n"
     ]
    },
    {
     "data": {
      "text/plain": [
       "array([57.39778948,  6.1434032 ,  1.42078239,  4.12596778])"
      ]
     },
     "execution_count": 24,
     "metadata": {},
     "output_type": "execute_result"
    }
   ],
   "source": [
    "eval_sgd_model(X_st, y, iterations=5000, qty_in_batch=5, alpha=1e-2)"
   ]
  },
  {
   "cell_type": "markdown",
   "metadata": {},
   "source": [
    "### Регуляризация  \n",
    "\n",
    "По сути, регуляризация - это ограничение модели.  \n",
    "Для нас это, прежде всего, способ уменьшить сложность модели, чтобы предотвратить переобучение.\n",
    "Проблема: признаки могут иметь линейную (или почти линейную) зависимость.  \n",
    "Если у нас есть такие признаки, модель будет не устойчива к изменению в данных (большой variance).  \n",
    "Чтобы побороть этот эффект, модель при обучении дополнительно ограничивают, используя **регуляризацию**.\n",
    "\n",
    "Подробнее здесь:  \n",
    "https://habr.com/ru/company/ods/blog/323890/  \n",
    "и здесь:  \n",
    "https://habr.com/ru/company/ods/blog/322076/  "
   ]
  },
  {
   "cell_type": "markdown",
   "metadata": {
    "colab": {},
    "colab_type": "code",
    "id": "DYTxT_6OrZpe"
   },
   "source": [
    "L1 регуляризация"
   ]
  },
  {
   "cell_type": "markdown",
   "metadata": {
    "colab": {},
    "colab_type": "code",
    "id": "Ojkn7xKrsyiw"
   },
   "source": [
    "$$\\Large \\mathcal{L}_{reg} \\left(X, \\vec{y}, \\vec{w}\\right) = \\mathcal{L}\\left(X, \\vec{y}, \\vec{w}\\right)  + \\lambda \\sum_{j=1}^m \\left| w_j \\right|$$"
   ]
  },
  {
   "cell_type": "markdown",
   "metadata": {
    "colab": {},
    "colab_type": "code",
    "id": "j38vId7Hvtg0"
   },
   "source": [
    "L2 регуляризация"
   ]
  },
  {
   "cell_type": "markdown",
   "metadata": {
    "colab": {},
    "colab_type": "code",
    "id": "KO5BtZ7svv4k"
   },
   "source": [
    "$$\\Large \\mathcal{L}_{reg} \\left(X, \\vec{y}, \\vec{w}\\right) = \\mathcal{L}\\left(X, \\vec{y}, \\vec{w}\\right) + \\lambda \\frac{1}{2} \\sum_{j=1}^m w_j^2$$"
   ]
  },
  {
   "cell_type": "code",
   "execution_count": 25,
   "metadata": {
    "colab": {},
    "colab_type": "code",
    "id": "7AVoe1Mswjni"
   },
   "outputs": [],
   "source": [
    "def eval_model_reg2(X, y, iterations, alpha=1e-4, lambda_=1e-8):\n",
    "    np.random.seed(42)\n",
    "    W = np.random.randn(X.shape[0])\n",
    "    n = X.shape[1]\n",
    "    for i in range(1, iterations+1):\n",
    "        y_pred = np.dot(W, X)\n",
    "        err = calc_mse(y, y_pred)\n",
    "        W -= alpha * (1/n * 2 * np.dot((y_pred - y), X.T) + lambda_ * W) \n",
    "        if i % (iterations / 10) == 0:\n",
    "            print(f'# итерация: {i}, MSE: {err}, веса: {W}')\n",
    "    return W"
   ]
  },
  {
   "cell_type": "code",
   "execution_count": 26,
   "metadata": {
    "colab": {
     "base_uri": "https://localhost:8080/",
     "height": 207
    },
    "colab_type": "code",
    "id": "vLJL6j8Lw6OA",
    "outputId": "dac9ef42-5966-4404-9346-aeb18cca83c6"
   },
   "outputs": [
    {
     "name": "stdout",
     "output_type": "stream",
     "text": [
      "# итерация: 500, MSE: 39.98166412253417, веса: [57.39479705  5.10767868  2.46037345  4.08674902]\n",
      "# итерация: 1000, MSE: 39.807231204063974, веса: [57.39713005  5.765859    1.85689028  4.03893236]\n",
      "# итерация: 1500, MSE: 39.782405042800356, веса: [57.39713014  5.99060723  1.60529698  4.06885866]\n",
      "# итерация: 2000, MSE: 39.77852356578889, веса: [57.39713014  6.07152025  1.50155606  4.09300748]\n",
      "# итерация: 2500, MSE: 39.77788748617128, веса: [57.39713014  6.10185559  1.45905205  4.10572941]\n",
      "# итерация: 3000, MSE: 39.7777793047026, веса: [57.39713014  6.11355928  1.44170275  4.11160375]\n",
      "# итерация: 3500, MSE: 39.777759834058934, веса: [57.39713014  6.11816175  1.43463681  4.11416107]\n",
      "# итерация: 4000, MSE: 39.77775594321602, веса: [57.39713014  6.11999396  1.43176283  4.1152412 ]\n",
      "# итерация: 4500, MSE: 39.777755024514185, веса: [57.39713014  6.12072893  1.43059479  4.11568989]\n",
      "# итерация: 5000, MSE: 39.77775476050768, веса: [57.39713014  6.12102515  1.4301203   4.11587451]\n"
     ]
    },
    {
     "data": {
      "text/plain": [
       "array([57.39713014,  6.12102515,  1.4301203 ,  4.11587451])"
      ]
     },
     "execution_count": 26,
     "metadata": {},
     "output_type": "execute_result"
    }
   ],
   "source": [
    "eval_model_reg2(X_st, y, iterations=5000, alpha=1e-2, lambda_=1e-4)"
   ]
  },
  {
   "cell_type": "code",
   "execution_count": null,
   "metadata": {},
   "outputs": [],
   "source": []
  },
  {
   "cell_type": "markdown",
   "metadata": {},
   "source": [
    "### Домашнее задание:  \n",
    "1. Постройте график зависимости весов всех признаков от lambda в L2-регуляризации (на данных из урока).\n",
    "2. Можно ли к одному и тому же признаку применить сразу и нормализацию, и стандартизацию?  \n",
    "3. Напишите функцию наподобие eval_model_reg2, но для применения L1-регуляризации *."
   ]
  },
  {
   "cell_type": "markdown",
   "metadata": {},
   "source": [
    "### Решение"
   ]
  },
  {
   "cell_type": "markdown",
   "metadata": {},
   "source": [
    "1. Постройте график зависимости весов всех признаков от lambda в L2-регуляризации (на данных из урока)."
   ]
  },
  {
   "cell_type": "code",
   "execution_count": 27,
   "metadata": {},
   "outputs": [
    {
     "name": "stdout",
     "output_type": "stream",
     "text": [
      "# итерация: 100, MSE: 100.1533272043271, веса: [49.8535115   3.66668135  3.48290916  4.46269156]\n",
      "# итерация: 200, MSE: 41.521924794340364, веса: [56.39918804  4.16741325  3.166684    4.31348189]\n",
      "# итерация: 300, MSE: 40.25688819717003, веса: [57.26727276  4.55529967  2.89027948  4.20488959]\n",
      "# итерация: 400, MSE: 40.08337439140503, веса: [57.38239777  4.86307305  2.65691244  4.13291608]\n",
      "# итерация: 500, MSE: 39.981548483509194, веса: [57.3976656   5.10794282  2.46013454  4.08693806]\n",
      "# итерация: 600, MSE: 39.91468961755855, веса: [57.39969041  5.30327372  2.29437853  4.05919065]\n",
      "# итерация: 700, MSE: 39.870304338199894, веса: [57.39995894  5.45948993  2.15488025  4.04404572]\n",
      "# итерация: 800, MSE: 39.84062200764765, веса: [57.39999455  5.58474142  2.03757468  4.03744875]\n",
      "# итерация: 900, MSE: 39.82064430871084, веса: [57.39999928  5.6854157   1.93900185  4.03650044]\n",
      "# итерация: 1000, MSE: 39.80712257860053, веса: [57.3999999   5.76653146  1.85622321  4.03914637]\n",
      "# итерация: 100, MSE: 100.15332839532576, веса: [49.85351142  3.66668135  3.48290915  4.46269155]\n",
      "# итерация: 200, MSE: 41.52192503648142, веса: [56.39918793  4.16741324  3.166684    4.31348188]\n",
      "# итерация: 300, MSE: 40.2568882335447, веса: [57.26727263  4.55529966  2.89027948  4.20488958]\n",
      "# итерация: 400, MSE: 40.0833743992545, веса: [57.38239764  4.86307304  2.65691244  4.13291607]\n",
      "# итерация: 500, MSE: 39.98154848838548, веса: [57.39766547  5.10794281  2.46013456  4.08693805]\n",
      "# итерация: 600, MSE: 39.91468962252041, веса: [57.39969028  5.30327371  2.29437854  4.05919064]\n",
      "# итерация: 700, MSE: 39.87030434334077, веса: [57.39995881  5.45948991  2.15488027  4.04404571]\n",
      "# итерация: 800, MSE: 39.8406220127523, веса: [57.39999442  5.5847414   2.0375747   4.03744874]\n",
      "# итерация: 900, MSE: 39.82064431359867, веса: [57.39999914  5.68541567  1.93900188  4.03650043]\n",
      "# итерация: 1000, MSE: 39.8071225831553, веса: [57.39999977  5.76653143  1.85622325  4.03914636]\n",
      "# итерация: 100, MSE: 100.15338367658845, веса: [49.8535078   3.66668129  3.48290905  4.46269128]\n",
      "# итерация: 200, MSE: 41.52193627570392, веса: [56.39918241  4.16741315  3.166684    4.31348153]\n",
      "# итерация: 300, MSE: 40.256889921944456, веса: [57.26726668  4.55529945  2.89027963  4.2048892 ]\n",
      "# итерация: 400, MSE: 40.08337476363302, веса: [57.38239161  4.86307267  2.65691276  4.13291568]\n",
      "# итерация: 500, MSE: 39.98154871475965, веса: [57.39765942  5.10794225  2.46013506  4.08693765]\n",
      "# итерация: 600, MSE: 39.91468985286674, веса: [57.39968423  5.30327296  2.29437924  4.05919024]\n",
      "# итерация: 700, MSE: 39.870304581995754, веса: [57.39995276  5.45948898  2.15488116  4.0440453 ]\n",
      "# итерация: 800, MSE: 39.84062224972742, веса: [57.39998837  5.58474029  2.03757577  4.03744832]\n",
      "# итерация: 900, MSE: 39.820644540509676, веса: [57.39999309  5.6854144   1.93900312  4.0365    ]\n",
      "# итерация: 1000, MSE: 39.8071227946067, веса: [57.39999372  5.76653001  1.85622465  4.03914591]\n",
      "# итерация: 100, MSE: 100.15594962739058, веса: [49.85333957  3.66667865  3.48290435  4.4626784 ]\n",
      "# итерация: 200, MSE: 41.52245801912751, веса: [56.39892652  4.16740857  3.16668405  4.31346538]\n",
      "# итерация: 300, MSE: 40.25696836845915, веса: [57.2669905   4.55528946  2.89028645  4.20487159]\n",
      "# итерация: 400, MSE: 40.08339175703739, веса: [57.38211158  4.86305524  2.65692754  4.13289746]\n",
      "# итерация: 500, MSE: 39.98155930300686, веса: [57.39737873  5.10791641  2.46015844  4.08691915]\n",
      "# итерация: 600, MSE: 39.91470062559772, веса: [57.39940343  5.30323839  2.29441146  4.05917151]\n",
      "# итерация: 700, MSE: 39.87031574047435, веса: [57.39967195  5.45944584  2.15492217  4.04402625]\n",
      "# итерация: 800, MSE: 39.84063333035253, веса: [57.39970756  5.584689    2.03762531  4.03742879]\n",
      "# итерация: 900, MSE: 39.82065515414864, веса: [57.39971228  5.68535553  1.93906078  4.03647983]\n",
      "# итерация: 1000, MSE: 39.807132690843, веса: [57.39971291  5.7664642   1.85628994  4.03912497]\n",
      "# итерация: 100, MSE: 100.2750976191701, веса: [49.84553208  3.66655623  3.48268625  4.46208099]\n",
      "# итерация: 200, MSE: 41.54681502856995, веса: [56.38705138  4.167196    3.16668622  4.31271597]\n",
      "# итерация: 300, MSE: 40.260777376490594, веса: [57.25417397  4.55482612  2.89060275  4.20405473]\n",
      "# итерация: 400, MSE: 40.08435377192994, веса: [57.36911693  4.86224677  2.65761288  4.13205224]\n",
      "# итерация: 500, MSE: 39.982224956720316, веса: [57.3843534   5.10671712  2.46124267  4.08606112]\n",
      "# итерация: 600, MSE: 39.91537508420821, веса: [57.38637309  5.30163474  2.29590571  4.05830297]\n",
      "# итерация: 700, MSE: 39.87100830482756, веса: [57.38664082  5.4574448   2.15682386  4.0431428 ]\n",
      "# итерация: 800, MSE: 39.84132253933759, веса: [57.38667631  5.58231009  2.03992213  4.03652335]\n",
      "# итерация: 900, MSE: 39.8213230048121, веса: [57.38668101  5.68262534  1.94173381  4.03554491]\n",
      "# итерация: 1000, MSE: 39.807767603771936, веса: [57.38668164  5.76341273  1.85931601  4.03815399]\n",
      "# итерация: 100, MSE: 105.90555982197422, веса: [49.48525171  3.66081778  3.47258378  4.43454681]\n",
      "# итерация: 200, MSE: 42.97314959689196, веса: [55.84080628  4.15716961  3.16663666  4.27841689]\n",
      "# итерация: 300, MSE: 40.791848721477166, веса: [56.66534761  4.53324799  2.90474438  4.16693238]\n",
      "# итерация: 400, MSE: 40.49443883339278, веса: [56.77231993  4.82500414  2.68825425  4.09389651]\n",
      "# итерация: 500, MSE: 40.38046338045173, веса: [56.78619805  5.05195918  2.50953433  4.04756173]\n",
      "# итерация: 600, MSE: 40.314496629434736, веса: [56.78799853  5.22896794  2.3621524   4.01954553]\n",
      "# итерация: 700, MSE: 40.271353676189946, веса: [56.78823212  5.36738017  2.24072833  4.00391612]\n",
      "# итерация: 800, MSE: 40.24200112589903, веса: [56.78826242  5.47588855  2.14077423  3.99650361]\n",
      "# итерация: 900, MSE: 40.22160609951566, веса: [56.78826635  5.56116714  2.05855529  3.99440019]\n",
      "# итерация: 1000, MSE: 40.20719379670578, веса: [56.78826686  5.62835313  1.99096972  3.9955983 ]\n",
      "# итерация: 100, MSE: 484.056369484736, веса: [36.4706107   3.32333121  3.04776412  3.48086087]\n",
      "# итерация: 200, MSE: 412.97071875614336, веса: [38.1812597   3.56953786  2.97742218  3.3141873 ]\n",
      "# итерация: 300, MSE: 409.7157878368645, веса: [38.26260535  3.63832888  2.95418979  3.26871789]\n",
      "# итерация: 400, MSE: 409.55247191391, веса: [38.26647354  3.65782712  2.9468679   3.25657569]\n",
      "# итерация: 500, MSE: 409.54212479133395, веса: [38.26665748  3.66336643  2.94456998  3.25334751]\n",
      "# итерация: 600, MSE: 409.54087839191027, веса: [38.26666623  3.66494378  2.94385126  3.25249366]\n",
      "# итерация: 700, MSE: 409.54059795114665, веса: [38.26666665  3.66539403  2.94362714  3.25226922]\n",
      "# итерация: 800, MSE: 409.5405195934617, веса: [38.26666667  3.66552287  2.94355742  3.25221066]\n",
      "# итерация: 900, MSE: 409.5404967039519, веса: [38.26666667  3.66555984  2.94353579  3.25219552]\n",
      "# итерация: 1000, MSE: 409.5404899542842, веса: [38.26666667  3.66557047  2.94352908  3.25219166]\n"
     ]
    },
    {
     "data": {
      "image/png": "[encoded data removed]",
      "text/plain": [
       "<Figure size 432x288 with 1 Axes>"
      ]
     },
     "metadata": {
      "needs_background": "light"
     },
     "output_type": "display_data"
    }
   ],
   "source": [
    "lambda_array = np.logspace(-10, 0, 7)\n",
    "w_array = []\n",
    "\n",
    "for l in lambda_array:\n",
    "    w = eval_model_reg2(X_st, y, iterations=1000, alpha=1e-2, lambda_=l)\n",
    "    w_array.append(w)\n",
    "w_array = np.array(w_array)\n",
    "\n",
    "for i in range(len(w_array[0])):\n",
    "    plt.plot(lambda_array, w_array[:, i])\n",
    "plt.show()"
   ]
  },
  {
   "cell_type": "markdown",
   "metadata": {},
   "source": [
    "2. Можно ли к одному и тому же признаку применить сразу и нормализацию, и стандартизацию?  \n",
    "\n",
    "Можно, но в этом нет смысла. Нормализация и стандартизация скалируют данные беря за основу разные формулы."
   ]
  },
  {
   "cell_type": "markdown",
   "metadata": {},
   "source": [
    "3. Напишите функцию наподобие eval_model_reg2, но для применения L1-регуляризации *."
   ]
  },
  {
   "cell_type": "code",
   "execution_count": 28,
   "metadata": {},
   "outputs": [],
   "source": [
    "def eval_model_reg1(X, y, _i, alpha=1e-4, lamda_=1e-8, verb=False):\n",
    "    np.random.seed(42)\n",
    "    W = np.random.rand(X.shape[0])\n",
    "    n = X.shape[1]\n",
    "    for i in range(1, _i + 1):\n",
    "        y_pred = np.dot(W, X)\n",
    "        err = calc_mse(y, y_pred)\n",
    "        W -= alpha * (1/n * 2 * np.dot((y_pred - y), X.T) + lamda_ * np.sign(W))\n",
    "        if verb:\n",
    "            if i % (_i / 10) == 0:\n",
    "                print(f'# итерация: {i}, MSE: {err}, веса: {W}')\n",
    "    return W"
   ]
  },
  {
   "cell_type": "code",
   "execution_count": 29,
   "metadata": {},
   "outputs": [
    {
     "name": "stdout",
     "output_type": "stream",
     "text": [
      "# итерация: 400, MSE: 39.997053449523, веса: [57.38231     5.20193908  2.63312108  3.81671716]\n",
      "# итерация: 800, MSE: 39.8283754300456, веса: [57.39994454  5.70117847  2.01845854  3.93988161]\n",
      "# итерация: 1200, MSE: 39.78960002633381, веса: [57.39995     5.92607545  1.71672955  4.02060016]\n",
      "# итерация: 1600, MSE: 39.78053729464927, веса: [57.39995     6.02967219  1.56908418  4.06657826]\n",
      "# итерация: 2000, MSE: 39.77840498459234, веса: [57.39995     6.07818962  1.49698673  4.09110933]\n",
      "# итерация: 2400, MSE: 39.77790178668375, веса: [57.39995     6.10118329  1.46182861  4.10374041]\n",
      "# итерация: 2800, MSE: 39.77778287636075, веса: [57.39995     6.11217162  1.44469933  4.11010963]\n",
      "# итерация: 3200, MSE: 39.77775475749167, веса: [57.39995     6.11745293  1.43635881  4.11328029]\n",
      "# итерация: 3600, MSE: 39.77774810504614, веса: [57.39995     6.12000119  1.43229928  4.11484589]\n",
      "# итерация: 4000, MSE: 39.77774653031221, веса: [57.39995     6.12123398  1.43032393  4.11561492]\n"
     ]
    },
    {
     "data": {
      "text/plain": [
       "array([57.39995   ,  6.12123398,  1.43032393,  4.11561492])"
      ]
     },
     "execution_count": 29,
     "metadata": {},
     "output_type": "execute_result"
    }
   ],
   "source": [
    "eval_model_reg1(X_st, y, _i=4000, alpha=1e-2, lamda_=1e-4, verb=True)"
   ]
  }
 ],
 "metadata": {
  "colab": {
   "collapsed_sections": [],
   "name": "Lesson2.ipynb",
   "provenance": []
  },
  "kernelspec": {
   "display_name": "Python 3",
   "language": "python",
   "name": "python3"
  },
  "language_info": {
   "codemirror_mode": {
    "name": "ipython",
    "version": 3
   },
   "file_extension": ".py",
   "mimetype": "text/x-python",
   "name": "python",
   "nbconvert_exporter": "python",
   "pygments_lexer": "ipython3",
   "version": "3.7.6"
  },
  "toc": {
   "base_numbering": 1,
   "nav_menu": {},
   "number_sections": true,
   "sideBar": true,
   "skip_h1_title": false,
   "title_cell": "Table of Contents",
   "title_sidebar": "Contents",
   "toc_cell": false,
   "toc_position": {},
   "toc_section_display": true,
   "toc_window_display": false
  }
 },
 "nbformat": 4,
 "nbformat_minor": 1
}
