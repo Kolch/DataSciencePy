{
 "cells": [
  {
   "cell_type": "code",
   "execution_count": 1,
   "metadata": {},
   "outputs": [],
   "source": [
    "import numpy as np\n",
    "from random import randint\n",
    "from matplotlib import pyplot as plt\n",
    "from math import factorial\n",
    "import itertools"
   ]
  },
  {
   "cell_type": "markdown",
   "metadata": {},
   "source": [
    "### Задание 1"
   ]
  },
  {
   "cell_type": "code",
   "execution_count": 2,
   "metadata": {},
   "outputs": [],
   "source": [
    "## игра в релетку"
   ]
  },
  {
   "cell_type": "code",
   "execution_count": 3,
   "metadata": {},
   "outputs": [
    {
     "name": "stdout",
     "output_type": "stream",
     "text": [
      "Введите q чтобы выйти\n",
      "\n",
      "Выпало поле -  21\n",
      "\n",
      "Выпало поле -  33\n",
      "\n",
      "Выпало поле -  7\n",
      "\n",
      "Выпало поле -  31\n",
      "q\n"
     ]
    }
   ],
   "source": [
    "print(\"Введите q чтобы выйти\")\n",
    "while True:\n",
    "    _input = input()\n",
    "    if _input == 'q':\n",
    "        break\n",
    "    else:\n",
    "        x = randint(0,36)\n",
    "        print(\"Выпало поле - \", x)"
   ]
  },
  {
   "cell_type": "markdown",
   "metadata": {},
   "source": [
    "### Задание 2"
   ]
  },
  {
   "cell_type": "code",
   "execution_count": 4,
   "metadata": {},
   "outputs": [],
   "source": [
    "# Напишите код, проверяющий любую из теорем сложения или умножения вероятности на примере рулетки или подбрасывания монетки."
   ]
  },
  {
   "cell_type": "code",
   "execution_count": 5,
   "metadata": {},
   "outputs": [],
   "source": [
    "# Я решил провести такое испытание, посчитать сколько из 1000 раз, на рулетке выпадет 0, а монетка упадет решкой вверх\n",
    "# Получается вероятность этого - 1/37 * 1/ 2 = 1/74\n",
    "# => 1/74 * 1000 = примерно 13"
   ]
  },
  {
   "cell_type": "code",
   "execution_count": 6,
   "metadata": {},
   "outputs": [
    {
     "name": "stdout",
     "output_type": "stream",
     "text": [
      "15\n"
     ]
    }
   ],
   "source": [
    "t = 0\n",
    "for i in range(1000):\n",
    "    x = randint(0,36)\n",
    "    c = np.random.uniform(0,10)\n",
    "    if (c > 5) and (x == 0):\n",
    "        t = t + 1\n",
    "print(t)"
   ]
  },
  {
   "cell_type": "code",
   "execution_count": 7,
   "metadata": {},
   "outputs": [],
   "source": [
    "# Как мы видим на примере кода, выпадает всегда число относительное близкое к 13"
   ]
  },
  {
   "cell_type": "code",
   "execution_count": 8,
   "metadata": {},
   "outputs": [],
   "source": [
    "# Сгенерируйте десять выборок случайных чисел х0, …, х9.\n",
    "# и постройте гистограмму распределения случайной суммы х0+х1+ …+ х9."
   ]
  },
  {
   "cell_type": "code",
   "execution_count": 9,
   "metadata": {},
   "outputs": [
    {
     "data": {
      "text/plain": [
       "(array([ 15.,  37., 100., 180., 215., 210., 139.,  73.,  26.,   5.]),\n",
       " array([2.14890548, 2.63738609, 3.1258667 , 3.6143473 , 4.10282791,\n",
       "        4.59130851, 5.07978912, 5.56826973, 6.05675033, 6.54523094,\n",
       "        7.03371154]),\n",
       " <a list of 10 Patch objects>)"
      ]
     },
     "execution_count": 9,
     "metadata": {},
     "output_type": "execute_result"
    },
    {
     "data": {
      "image/png": "[encoded data removed]",
      "text/plain": [
       "<Figure size 432x288 with 1 Axes>"
      ]
     },
     "metadata": {
      "needs_background": "light"
     },
     "output_type": "display_data"
    }
   ],
   "source": [
    "x_ = []\n",
    "f_array = [0 for i in range(0,1000)]\n",
    "for i in range(0, 9):\n",
    "    x = np.random.rand(1000)\n",
    "    x_.append(x)\n",
    "\n",
    "for i in x_:\n",
    "        f_array = f_array + i\n",
    "plt.hist(f_array)"
   ]
  },
  {
   "cell_type": "markdown",
   "metadata": {},
   "source": [
    "### Задание 3"
   ]
  },
  {
   "cell_type": "code",
   "execution_count": 10,
   "metadata": {},
   "outputs": [],
   "source": [
    "# Дополните код Монте-Карло последовательности независимых испытаний расчетом соответствующих вероятностей (через биномиальное распределение) \n",
    "# и сравните результаты."
   ]
  },
  {
   "cell_type": "code",
   "execution_count": 11,
   "metadata": {},
   "outputs": [
    {
     "name": "stdout",
     "output_type": "stream",
     "text": [
      "3796 10000 0.3796\n"
     ]
    }
   ],
   "source": [
    "k, n = 0, 10000\n",
    "a = np.random.randint(0,2, n)\n",
    "b = np.random.randint(0,2, n)\n",
    "c = np.random.randint(0,2, n)\n",
    "d = np.random.randint(0,2, n)\n",
    "x = a + b + c + d\n",
    "for i in range(0, n):\n",
    "    if x[i] == 2:\n",
    "        k = k + 1\n",
    "print(k, n, k/n)"
   ]
  },
  {
   "cell_type": "code",
   "execution_count": 12,
   "metadata": {},
   "outputs": [
    {
     "name": "stdout",
     "output_type": "stream",
     "text": [
      "Pn(k) =  0.375\n"
     ]
    }
   ],
   "source": [
    "# Pn(k) = Cn(k) * 1/2^n\n",
    "Cn_k = factorial(4)/ (factorial(2)*factorial(4-2))\n",
    "Pn_k = Cn_k * (1/2**4)\n",
    "print(\"Pn(k) = \",Pn_k)"
   ]
  },
  {
   "cell_type": "code",
   "execution_count": 13,
   "metadata": {},
   "outputs": [
    {
     "name": "stdout",
     "output_type": "stream",
     "text": [
      "2354 10000 0.2354\n"
     ]
    }
   ],
   "source": [
    "# n = 6\n",
    "k, n = 0, 10000\n",
    "a = np.random.randint(0,2, n)\n",
    "b = np.random.randint(0,2, n)\n",
    "c = np.random.randint(0,2, n)\n",
    "d = np.random.randint(0,2, n)\n",
    "e = np.random.randint(0,2, n)\n",
    "f = np.random.randint(0,2, n)\n",
    "x = a + b + c + d + e + f\n",
    "for i in range(0, n):\n",
    "    if x[i] == 2:\n",
    "        k = k + 1\n",
    "print(k, n, k/n)"
   ]
  },
  {
   "cell_type": "code",
   "execution_count": 14,
   "metadata": {},
   "outputs": [
    {
     "name": "stdout",
     "output_type": "stream",
     "text": [
      "Pn(k) =  0.234375\n"
     ]
    }
   ],
   "source": [
    "Cn_k = factorial(6)/ (factorial(2)*factorial(6-2))\n",
    "Pn_k = Cn_k * (1/2**6)\n",
    "print(\"Pn(k) = \",Pn_k)"
   ]
  },
  {
   "cell_type": "markdown",
   "metadata": {},
   "source": [
    "### Задание 4"
   ]
  },
  {
   "cell_type": "code",
   "execution_count": 15,
   "metadata": {},
   "outputs": [],
   "source": [
    "# Из урока по комбинаторике повторите расчеты, сгенерировав возможные варианты перестановок для других значений n и k"
   ]
  },
  {
   "cell_type": "code",
   "execution_count": 16,
   "metadata": {},
   "outputs": [],
   "source": [
    "x1, y1 = \"0123\", 4\n",
    "x2, y2 = \"45678\", 3\n",
    "x3, y3 = \"012\", 2\n",
    "x4, y4 = \"012398\", 5"
   ]
  },
  {
   "cell_type": "code",
   "execution_count": 17,
   "metadata": {},
   "outputs": [
    {
     "name": "stdout",
     "output_type": "stream",
     "text": [
      "0123\n",
      "0132\n",
      "0213\n",
      "0231\n",
      "0312\n",
      "0321\n",
      "1023\n",
      "1032\n",
      "1203\n",
      "1230\n",
      "1302\n",
      "1320\n",
      "2013\n",
      "2031\n",
      "2103\n",
      "2130\n",
      "2301\n",
      "2310\n",
      "3012\n",
      "3021\n",
      "3102\n",
      "3120\n",
      "3201\n",
      "3210\n"
     ]
    }
   ],
   "source": [
    "for p in itertools.permutations(x1, y1):\n",
    "    print(''.join(str(x) for x in p))"
   ]
  },
  {
   "cell_type": "code",
   "execution_count": null,
   "metadata": {},
   "outputs": [],
   "source": []
  }
 ],
 "metadata": {
  "kernelspec": {
   "display_name": "Python 3",
   "language": "python",
   "name": "python3"
  },
  "language_info": {
   "codemirror_mode": {
    "name": "ipython",
    "version": 3
   },
   "file_extension": ".py",
   "mimetype": "text/x-python",
   "name": "python",
   "nbconvert_exporter": "python",
   "pygments_lexer": "ipython3",
   "version": "3.7.3"
  }
 },
 "nbformat": 4,
 "nbformat_minor": 2
}
