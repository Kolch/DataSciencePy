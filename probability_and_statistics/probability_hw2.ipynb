{
 "cells": [
  {
   "cell_type": "code",
   "execution_count": 1,
   "metadata": {},
   "outputs": [],
   "source": [
    "import numpy as np\n",
    "from math import factorial\n",
    "from matplotlib import pyplot as plt"
   ]
  },
  {
   "cell_type": "code",
   "execution_count": 2,
   "metadata": {},
   "outputs": [],
   "source": [
    "def combinations(n, k):\n",
    "    return int(factorial(n) / (factorial(k) * factorial(n - k)))"
   ]
  },
  {
   "cell_type": "markdown",
   "metadata": {},
   "source": [
    "### Задача 1\n",
    "\n",
    "Контрольная работа состоит из пяти вопросов. На каждый вопрос приведено четыре варианта ответа, один из которых правильный. Составьте закон распределения числа правильных ответов при простом угадывании. Найдите M(X), D(X)."
   ]
  },
  {
   "cell_type": "markdown",
   "metadata": {},
   "source": [
    "### Решение\n",
    "Пусть X  - дискретная случайная величина.\n",
    "\n",
    "По условию: n = 5(число вопросов), p = 1/4(вероятность угадать)"
   ]
  },
  {
   "cell_type": "markdown",
   "metadata": {},
   "source": [
    "**По формуле Бернулли:**"
   ]
  },
  {
   "cell_type": "markdown",
   "metadata": {},
   "source": [
    "$$P(X = k) = C_5^k * (3/4)^{5-k} * (1/4)^k$$"
   ]
  },
  {
   "cell_type": "markdown",
   "metadata": {},
   "source": [
    "$$P(X = 5) = C_5^5 * (3/4)^0 * (1/4)^5 =  \\dfrac{1}{1024}$$"
   ]
  },
  {
   "cell_type": "markdown",
   "metadata": {},
   "source": [
    "$$P(X = 4) = C_5^4 * (3/4)^1 * (1/4)^4 =  \\dfrac{15}{1024}$$"
   ]
  },
  {
   "cell_type": "markdown",
   "metadata": {},
   "source": [
    "$$P(X = 3) = C_5^3 * (3/4)^2 * (1/4)^3 =  \\dfrac{90}{1024}$$"
   ]
  },
  {
   "cell_type": "markdown",
   "metadata": {},
   "source": [
    "$$P(X = 2) = C_5^2 * (3/4)^3 * (1/4)^2 =  \\dfrac{270}{1024}$$"
   ]
  },
  {
   "cell_type": "markdown",
   "metadata": {},
   "source": [
    "$$P(X = 1) = C_5^1 * (3/4)^4 * (1/4)^1 =  \\dfrac{405}{1024}$$"
   ]
  },
  {
   "cell_type": "markdown",
   "metadata": {},
   "source": [
    "$$P(X = 0) = C_5^0 * (3/4)^5 * (1/4)^0 =  \\dfrac{243}{1024}$$"
   ]
  },
  {
   "cell_type": "markdown",
   "metadata": {},
   "source": [
    "#### Построим график распределения"
   ]
  },
  {
   "cell_type": "code",
   "execution_count": 3,
   "metadata": {},
   "outputs": [
    {
     "data": {
      "text/plain": [
       "[<matplotlib.lines.Line2D at 0x138a073ef98>]"
      ]
     },
     "execution_count": 3,
     "metadata": {},
     "output_type": "execute_result"
    },
    {
     "data": {
      "image/png": "[encoded data removed]",
      "text/plain": [
       "<Figure size 432x288 with 1 Axes>"
      ]
     },
     "metadata": {
      "needs_background": "light"
     },
     "output_type": "display_data"
    }
   ],
   "source": [
    "x = [0,1,2,3,4,5]\n",
    "y = [243/1024, 405/1024,270/1024,90/1024,15/1024,1/1024]\n",
    "plt.plot(x,y)"
   ]
  },
  {
   "cell_type": "markdown",
   "metadata": {},
   "source": [
    "### Найдем M(X), D(X)"
   ]
  },
  {
   "cell_type": "code",
   "execution_count": 4,
   "metadata": {},
   "outputs": [
    {
     "name": "stdout",
     "output_type": "stream",
     "text": [
      "M(X) =  1.25\n"
     ]
    }
   ],
   "source": [
    "## M(X) = np\n",
    "M_x = 5*(1/4)\n",
    "print(\"M(X) = \",M_x)"
   ]
  },
  {
   "cell_type": "code",
   "execution_count": 5,
   "metadata": {},
   "outputs": [
    {
     "name": "stdout",
     "output_type": "stream",
     "text": [
      "D(X) =  0.9375\n"
     ]
    }
   ],
   "source": [
    "## D(X) = np(1-p)\n",
    "D_x = 5*(1/4)*(3/4)\n",
    "print(\"D(X) = \",D_x)"
   ]
  },
  {
   "cell_type": "markdown",
   "metadata": {},
   "source": [
    "### Задача 2\n",
    "\n",
    "Вероятность попадания в цель при одном выстреле равна 0.01. Какова вероятность того, что число попаданий при 200 выстрелах будет не менее 5 и не более 10?"
   ]
  },
  {
   "cell_type": "markdown",
   "metadata": {},
   "source": [
    "#### Решение"
   ]
  },
  {
   "cell_type": "markdown",
   "metadata": {},
   "source": [
    "Так как искомая вероятность - попадание от 5 до 10 раз, то есть или 5 или 6 или 7 или 8 или 9 или 10\n",
    "\n",
    "посчитаем вероятность для каждого события(5...10 попаданий)"
   ]
  },
  {
   "cell_type": "markdown",
   "metadata": {},
   "source": [
    "$$P_{200}(k) = C_{200}^k * 0,01^k * 0,99^{200-k}$$"
   ]
  },
  {
   "cell_type": "code",
   "execution_count": 6,
   "metadata": {},
   "outputs": [],
   "source": [
    "def countP(n,k,p):\n",
    "    return combinations(n,k) * (p**k) * ((1-p)**(n-k))"
   ]
  },
  {
   "cell_type": "code",
   "execution_count": 7,
   "metadata": {},
   "outputs": [
    {
     "name": "stdout",
     "output_type": "stream",
     "text": [
      "Вероятность попадания  5  раз -  0.03572335672160829\n",
      "Вероятность попадания  6  раз -  0.011727364580325954\n",
      "Вероятность попадания  7  раз -  0.0032829851783307863\n",
      "Вероятность попадания  8  раз -  0.0008000203780528306\n",
      "Вероятность попадания  9  раз -  0.000172394963620812\n",
      "Вероятность попадания  10  раз -  3.326003843593443e-05\n"
     ]
    }
   ],
   "source": [
    "for i in range(5,11):\n",
    "    P = countP(200,i,0.01)\n",
    "    print(\"Вероятность попадания \", i, \" раз - \", P)"
   ]
  },
  {
   "cell_type": "markdown",
   "metadata": {},
   "source": [
    "Искомая вероятность может быть найдена по формуле сложения вероятностей:\n",
    "\n",
    "\n",
    "$$P_{200}(5<=k<=10) = P_{200}(5) + P_{200}(6) + P_{200}(7) + P_{200}(8) + P_{200}(9) + P_{200}(10)$$"
   ]
  },
  {
   "cell_type": "code",
   "execution_count": 8,
   "metadata": {},
   "outputs": [
    {
     "data": {
      "text/plain": [
       "0.051739381860374606"
      ]
     },
     "execution_count": 8,
     "metadata": {},
     "output_type": "execute_result"
    }
   ],
   "source": [
    "P = 0\n",
    "for i in range(5,11):\n",
    "    # складываем вероятности\n",
    "    P = P + countP(200,i,0.01)\n",
    "P"
   ]
  },
  {
   "cell_type": "markdown",
   "metadata": {},
   "source": [
    "$$P_{200}(5<=k<=100) = 0.051739381860374606$$"
   ]
  },
  {
   "cell_type": "markdown",
   "metadata": {},
   "source": [
    "### Задача 3\n",
    "\n",
    "В условиях предыдущей задачи сколько выстрелов нужно сделать чтобы быть уверенным с вероятностью 0.9, что хотя бы 10 раз будет совершено попадание?\n",
    "\n",
    "Подсказка. Как посчитать P(X >= k) для величины X, имеющей распределение Пуассона? Здесь предстоит немножко покодить."
   ]
  },
  {
   "cell_type": "markdown",
   "metadata": {},
   "source": [
    "##### P(X >= k) = 1 - P(X < k) \n",
    "\n",
    "Из этого получаем:\n",
    "\n",
    "$$P(k >= 10) = 1 - P(k < 10)$$"
   ]
  },
  {
   "cell_type": "markdown",
   "metadata": {},
   "source": [
    "$$P(k >= 10) = 1 - P(9) - P(8) - P(7) - P(6) - P(5) - P(4) - P(3) - P(2) - P(1) - P(0)$$"
   ]
  },
  {
   "cell_type": "markdown",
   "metadata": {},
   "source": [
    "Для того, чтобы найти число выстрелов, при которых вероятность попадания хотя бы 10 раз равна 0.9, я сделал слудующие:\n",
    "\n",
    "ниже функция, считает вероятнсоть по формуле выше, начиная с 1000 выстрелов. При вероятности меньше 0.9 вызывает саму себя и увелечивает кол-во выстрелов до тех пор, пока вероятность не будет равна 0.9"
   ]
  },
  {
   "cell_type": "code",
   "execution_count": 9,
   "metadata": {},
   "outputs": [],
   "source": [
    "def countP2(n, k):\n",
    "    step = 30 # шаг с которым увеличиваем кол-во выстрелов(чем меньше шаг, тем больше точность)\n",
    "    # считаем вероятность получить менее 10 попаданий\n",
    "    _P = 0\n",
    "    for i in range(0,k):\n",
    "        # используем функицю для прошлого задания\n",
    "        _P = _P + countP(n,i,0.01)\n",
    "    # вычитаем из 1 и получаем искомую вероятсноть\n",
    "    P = 1 - _P\n",
    "    \n",
    "    print(\"Число выстрелов - \", n)\n",
    "    print(\"Вероятность попадания хотя бы в 10 целей - \", P)\n",
    "    print(\"----------------\")\n",
    "    \n",
    "    if P < 0.9:\n",
    "        countP2(n + step, 10)"
   ]
  },
  {
   "cell_type": "code",
   "execution_count": 10,
   "metadata": {},
   "outputs": [
    {
     "name": "stdout",
     "output_type": "stream",
     "text": [
      "Число выстрелов -  1000\n",
      "Вероятность попадания хотя бы в 10 целей -  0.5426994078251132\n",
      "----------------\n",
      "Число выстрелов -  1030\n",
      "Вероятность попадания хотя бы в 10 целей -  0.5797878314840156\n",
      "----------------\n",
      "Число выстрелов -  1060\n",
      "Вероятность попадания хотя бы в 10 целей -  0.6154876174180712\n",
      "----------------\n",
      "Число выстрелов -  1090\n",
      "Вероятность попадания хотя бы в 10 целей -  0.6495945662615878\n",
      "----------------\n",
      "Число выстрелов -  1120\n",
      "Вероятность попадания хотя бы в 10 целей -  0.681950182000826\n",
      "----------------\n",
      "Число выстрелов -  1150\n",
      "Вероятность попадания хотя бы в 10 целей -  0.7124397352820362\n",
      "----------------\n",
      "Число выстрелов -  1180\n",
      "Вероятность попадания хотя бы в 10 целей -  0.740989277145383\n",
      "----------------\n",
      "Число выстрелов -  1210\n",
      "Вероятность попадания хотя бы в 10 целей -  0.767561897204436\n",
      "----------------\n",
      "Число выстрелов -  1240\n",
      "Вероятность попадания хотя бы в 10 целей -  0.7921534951346691\n",
      "----------------\n",
      "Число выстрелов -  1270\n",
      "Вероятность попадания хотя бы в 10 целей -  0.8147883014189097\n",
      "----------------\n",
      "Число выстрелов -  1300\n",
      "Вероятность попадания хотя бы в 10 целей -  0.8355143462895492\n",
      "----------------\n",
      "Число выстрелов -  1330\n",
      "Вероятность попадания хотя бы в 10 целей -  0.8543990376699335\n",
      "----------------\n",
      "Число выстрелов -  1360\n",
      "Вероятность попадания хотя бы в 10 целей -  0.8715249719124906\n",
      "----------------\n",
      "Число выстрелов -  1390\n",
      "Вероятность попадания хотя бы в 10 целей -  0.8869860668695462\n",
      "----------------\n",
      "Число выстрелов -  1420\n",
      "Вероятность попадания хотя бы в 10 целей -  0.9008840763541235\n",
      "----------------\n"
     ]
    }
   ],
   "source": [
    "countP2(1000,10)"
   ]
  },
  {
   "cell_type": "code",
   "execution_count": null,
   "metadata": {},
   "outputs": [],
   "source": []
  }
 ],
 "metadata": {
  "kernelspec": {
   "display_name": "Python 3",
   "language": "python",
   "name": "python3"
  },
  "language_info": {
   "codemirror_mode": {
    "name": "ipython",
    "version": 3
   },
   "file_extension": ".py",
   "mimetype": "text/x-python",
   "name": "python",
   "nbconvert_exporter": "python",
   "pygments_lexer": "ipython3",
   "version": "3.7.3"
  }
 },
 "nbformat": 4,
 "nbformat_minor": 2
}
